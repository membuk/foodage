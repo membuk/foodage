{
  "cells": [
    {
      "cell_type": "code",
      "execution_count": null,
      "metadata": {
        "id": "FRHU2_NhmpPD"
      },
      "outputs": [],
      "source": [
        "sozluk= {\"Kisi\":            [395,378,400,400,360,380,387,403,390,370,400,374,402,395,392,\n",
        "                             362,407,394,368,376,393,413,387,368,413,364,411,385],\n",
        "       \"Domates_Corbasi\":   [1,0,0,0,0,1,0,0,0,0,0,0,0,1,1,0,0,0,0,1,0,0,0,0,0,0,0,1],\n",
        "       \"Misir_Corbasi\":     [0,1,0,0,0,0,0,0,1,0,0,0,0,0,0,1,0,0,0,0,0,0,1,0,0,0,0,0],\n",
        "       \"Mercimek_Corbasi\":  [0,0,1,1,0,0,0,0,0,1,1,0,0,0,0,0,1,1,0,0,0,0,0,1,1,0,0,0],\n",
        "       \"Yayla_Corbasi\":     [0,0,0,0,1,0,0,0,0,0,0,1,0,0,0,0,0,0,1,0,0,0,0,0,0,1,0,0],\n",
        "       \"Sehriye_Corbasi\":   [0,0,0,0,0,0,1,0,0,0,0,0,1,0,0,0,0,0,0,0,1,0,0,0,0,0,1,0],\n",
        "       \"Tarhana_Corbasi\":     [0,0,0,0,0,0,0,1,0,0,0,0,0,0,0,0,0,0,0,0,0,1,0,0,0,0,0,0],\n",
        "       \"Pirasa\":              [0,0,0,0,0,0,0,0,0,1,0,0,0,0,0,0,0,0,0,0,0,0,0,1,0,0,0,0],\n",
        "       \"Doner\":               [0,0,0,0,0,0,0,1,0,0,0,0,0,0,0,0,0,0,0,0,0,1,0,0,0,0,0,0],\n",
        "       \"Ekmek_Arasi_Şinitzel\":[0,0,0,0,0,0,1,0,0,0,0,0,0,0,0,0,0,0,0,0,1,0,0,0,0,0,0,0],\n",
        "       \"Misket_Kofte\":      [1,0,0,0,0,0,0,0,0,0,0,0,0,0,1,0,0,0,0,0,0,0,0,0,0,0,0,0],\n",
        "       \"Ciftlik_Kebabi\":    [0,0,0,0,0,0,0,0,1,0,0,0,0,0,0,0,0,0,0,0,0,0,1,0,0,0,0,0],\n",
        "       \"Cerkez_Tavugu\":     [0,0,0,0,0,0,0,0,0,0,1,0,0,0,0,0,0,0,0,0,0,0,0,0,1,0,0,0],\n",
        "       \"Etli_Patates\":      [0,1,0,0,0,0,0,0,0,0,0,0,0,0,0,1,0,0,0,0,0,0,0,0,0,0,0,0],\n",
        "       \"Pilav_Ustu_Kavurma\":[0,0,0,0,0,0,0,0,0,0,0,0,1,0,0,0,0,0,0,0,0,0,0,0,0,0,1,0],\n",
        "       \"Ekmek_Arasi_Kofte\": [0,0,1,0,0,0,0,0,0,0,0,0,0,0,0,0,1,0,0,0,0,0,0,0,0,0,0,0],\n",
        "       \"Pide\":              [0,0,0,1,0,0,0,0,0,0,0,0,0,0,0,0,0,1,0,0,0,0,0,0,0,0,0,0],\n",
        "       \"Kuru_Fasulye\":[0,0,0,0,1,0,0,0,0,0,0,1,0,0,0,0,0,0,1,0,0,0,0,0,0,1,0,0],\n",
        "       \"Tavuk_Pirzola\":[0,0,0,0,0,1,0,0,0,0,0,0,0,1,0,0,0,0,0,1,0,0,0,0,0,0,0,1],\n",
        "       \"Meyve_Suyu\":[1,0,0,0,0,0,0,0,0,0,0,0,0,0,1,0,0,0,0,0,0,0,0,0,0,0,0,0],\n",
        "       \"Mozaik_Pasta\":[0,1,0,0,0,0,0,0,0,0,0,0,0,0,0,1,0,0,0,0,0,0,0,0,0,0,0,0],\n",
        "       \"Ayran\":[0,0,1,1,0,0,1,1,1,0,0,0,1,0,0,0,1,1,0,0,1,1,1,0,0,0,1,0],\n",
        "       \"Puding\":[0,0,0,0,1,0,0,0,0,0,0,0,0,0,0,0,0,0,1,0,0,0,0,0,0,0,0,0],\n",
        "       \"Tursu\":[0,0,0,0,0,0,0,0,0,0,0,1,0,0,0,0,0,0,0,0,0,0,0,0,0,1,0,0],\n",
        "       \"Kemalpasa\":[0,0,0,0,0,0,0,0,0,0,1,0,0,0,0,0,0,0,0,0,0,0,0,0,1,0,0,0],\n",
        "       \"Salata\":[0,0,0,0,0,0,0,0,0,0,0,0,0,1,0,0,0,0,0,0,0,0,0,0,0,0,0,1]}"
      ]
    },
    {
      "cell_type": "code",
      "execution_count": null,
      "metadata": {
        "id": "zT27n-E5ncCK"
      },
      "outputs": [],
      "source": [
        "import pandas as pd\n",
        "veri = pd.DataFrame(sozluk)"
      ]
    },
    {
      "cell_type": "code",
      "execution_count": null,
      "metadata": {
        "id": "8mwTbaiyn1ro"
      },
      "outputs": [],
      "source": [
        "X= veri[[\"Domates_Corbasi\",\"Misir_Corbasi\",\"Mercimek_Corbasi\",\"Yayla_Corbasi\",\"Sehriye_Corbasi\",\n",
        "         \"Tarhana_Corbasi\",\"Pirasa\",\"Doner\",\"Ekmek_Arasi_Şinitzel\",\"Misket_Kofte\",\"Ciftlik_Kebabi\",\n",
        "         \"Cerkez_Tavugu\",\"Etli_Patates\",\"Pilav_Ustu_Kavurma\",\"Ekmek_Arasi_Kofte\",\"Pide\",\"Kuru_Fasulye\",\n",
        "         \"Tavuk_Pirzola\", \"Meyve_Suyu\",\"Mozaik_Pasta\",\"Ayran\",\"Puding\",\"Tursu\",\"Kemalpasa\",\"Salata\"]]\n",
        "Y= veri[[\"Kisi\"]]"
      ]
    },
    {
      "cell_type": "code",
      "execution_count": null,
      "metadata": {
        "id": "p62fc_3dpT7G"
      },
      "outputs": [],
      "source": [
        "# çoklu regresyon tahmini\n",
        "from sklearn.linear_model import LinearRegression\n",
        "lm =LinearRegression()\n",
        "model = lm.fit(X.values,Y)"
      ]
    },
    {
      "cell_type": "code",
      "execution_count": null,
      "metadata": {
        "colab": {
          "base_uri": "https://localhost:8080/"
        },
        "id": "840Jer-ZpZry",
        "outputId": "f42f076f-0506-4270-db4e-bce8f1576b57"
      },
      "outputs": [
        {
          "data": {
            "text/plain": [
              "array([[393.5]])"
            ]
          },
          "execution_count": 5,
          "metadata": {},
          "output_type": "execute_result"
        }
      ],
      "source": [
        "model.predict([[1,0,0,0,0,0,0,0,0,1,0,0,0,0,0,0,0,0,1,0,0,0,0,0,0]]) #Gerçekleşen: 395"
      ]
    },
    {
      "cell_type": "code",
      "execution_count": null,
      "metadata": {
        "colab": {
          "base_uri": "https://localhost:8080/"
        },
        "id": "3oG1xDTtpqan",
        "outputId": "b3d3504a-b12a-43cd-b930-db90030e1e17"
      },
      "outputs": [
        {
          "data": {
            "text/plain": [
              "array([[364.]])"
            ]
          },
          "execution_count": 6,
          "metadata": {},
          "output_type": "execute_result"
        }
      ],
      "source": [
        "model.predict([[0,0,0,1,0,0,0,0,0,0,0,0,0,0,0,0,1,0,0,0,0,1,0,0,0]]) #Gerçekleşen:  368"
      ]
    },
    {
      "cell_type": "code",
      "execution_count": null,
      "metadata": {
        "colab": {
          "base_uri": "https://localhost:8080/"
        },
        "id": "VPlieGRQqjec",
        "outputId": "d1b56d54-9d65-47f3-a58c-5dee8be930d4"
      },
      "outputs": [
        {
          "data": {
            "text/plain": [
              "array([[390.]])"
            ]
          },
          "execution_count": 7,
          "metadata": {},
          "output_type": "execute_result"
        }
      ],
      "source": [
        "model.predict([[1,0,0,0,0,0,0,0,0,0,0,0,0,0,0,0,0,1,0,0,0,0,0,0,1]]) #Gerçekleşen:  385"
      ]
    },
    {
      "cell_type": "code",
      "execution_count": null,
      "metadata": {
        "colab": {
          "base_uri": "https://localhost:8080/"
        },
        "id": "P6rPeD9Uq3qj",
        "outputId": "747b4c61-0bef-412a-c157-5a4ce578c04b"
      },
      "outputs": [
        {
          "data": {
            "text/plain": [
              "array([[406.5]])"
            ]
          },
          "execution_count": 9,
          "metadata": {},
          "output_type": "execute_result"
        }
      ],
      "source": [
        "model.predict([[0,0,0,0,1,0,0,0,0,0,0,0,0,1,0,0,0,0,0,0,1,0,0,0,0]]) #Gerçekleşen:  411"
      ]
    },
    {
      "cell_type": "code",
      "execution_count": null,
      "metadata": {
        "colab": {
          "base_uri": "https://localhost:8080/"
        },
        "id": "pfM0Z1xqHuK0",
        "outputId": "6f7cc9a1-4e04-40e3-e314-e2c2b02fbb7d"
      },
      "outputs": [
        {
          "data": {
            "text/plain": [
              "array([[396.49885452]])"
            ]
          },
          "execution_count": 10,
          "metadata": {},
          "output_type": "execute_result"
        }
      ],
      "source": [
        "model.predict([[0,1,0,0,0,0,0,1,0,0,0,0,0,0,0,0,0,0,0,0,1,0,0,0,0]]) #test menü"
      ]
    },
    {
      "cell_type": "code",
      "execution_count": null,
      "metadata": {
        "colab": {
          "base_uri": "https://localhost:8080/"
        },
        "id": "bAanaxQzSijp",
        "outputId": "6aec9397-7739-4897-9fca-fe0c0faa883d"
      },
      "outputs": [
        {
          "name": "stderr",
          "output_type": "stream",
          "text": [
            "/usr/local/lib/python3.7/dist-packages/sklearn/base.py:444: UserWarning: X has feature names, but LinearRegression was fitted without feature names\n",
            "  f\"X has feature names, but {self.__class__.__name__} was fitted without\"\n"
          ]
        },
        {
          "data": {
            "text/plain": [
              "0.9248540741861278"
            ]
          },
          "execution_count": 11,
          "metadata": {},
          "output_type": "execute_result"
        }
      ],
      "source": [
        "#model doğruluğu r2 hesaplaması\n",
        "from sklearn.metrics import r2_score\n",
        "r2_score(Y, model.predict(X))"
      ]
    },
    {
      "cell_type": "code",
      "execution_count": null,
      "metadata": {
        "colab": {
          "base_uri": "https://localhost:8080/"
        },
        "id": "zTJ8MUSE-9T1",
        "outputId": "eaede1fc-c917-474f-ea84-90588a44f370"
      },
      "outputs": [
        {
          "name": "stderr",
          "output_type": "stream",
          "text": [
            "/usr/local/lib/python3.7/dist-packages/statsmodels/tools/_testing.py:19: FutureWarning: pandas.util.testing is deprecated. Use the functions in the public API at pandas.testing instead.\n",
            "  import pandas.util.testing as tm\n"
          ]
        },
        {
          "name": "stdout",
          "output_type": "stream",
          "text": [
            "                            OLS Regression Results                            \n",
            "==============================================================================\n",
            "Dep. Variable:                   Kisi   R-squared:                       0.925\n",
            "Model:                            OLS   Adj. R-squared:                  0.855\n",
            "Method:                 Least Squares   F-statistic:                     13.25\n",
            "Date:                Thu, 10 Feb 2022   Prob (F-statistic):           1.10e-05\n",
            "Time:                        17:46:23   Log-Likelihood:                -80.484\n",
            "No. Observations:                  28   AIC:                             189.0\n",
            "Df Residuals:                      14   BIC:                             207.6\n",
            "Df Model:                          13                                         \n",
            "Covariance Type:            nonrobust                                         \n",
            "========================================================================================\n",
            "                           coef    std err          t      P>|t|      [0.025      0.975]\n",
            "----------------------------------------------------------------------------------------\n",
            "Domates_Corbasi        229.9000      1.917    119.925      0.000     225.788     234.012\n",
            "Misir_Corbasi          144.9198      1.805     80.309      0.000     141.049     148.790\n",
            "Mercimek_Corbasi       211.1886      1.688    125.137      0.000     207.569     214.808\n",
            "Yayla_Corbasi          146.6000      1.212    120.914      0.000     144.000     149.200\n",
            "Sehriye_Corbasi        124.6996      1.903     65.519      0.000     120.618     128.782\n",
            "Tarhana_Corbasi         98.3997      1.985     49.576      0.000      94.143     102.657\n",
            "Pirasa                 157.8114      3.344     47.188      0.000     150.638     164.984\n",
            "Doner                   98.3997      1.985     49.576      0.000      94.143     102.657\n",
            "Ekmek_Arasi_Şinitzel    54.0998      3.177     17.029      0.000      47.286      60.914\n",
            "Misket_Kofte            81.8000      1.917     42.670      0.000      77.688      85.912\n",
            "Ciftlik_Kebabi          32.3797      2.416     13.400      0.000      27.197      37.562\n",
            "Cerkez_Tavugu           97.6557      2.013     48.520      0.000      93.339     101.972\n",
            "Etli_Patates           112.5401      1.839     61.207      0.000     108.597     116.484\n",
            "Pilav_Ustu_Kavurma      70.5998      3.177     22.222      0.000      63.786      77.414\n",
            "Ekmek_Arasi_Kofte      -18.8892      3.397     -5.561      0.000     -26.174     -11.604\n",
            "Pide                   -25.3892      3.397     -7.475      0.000     -32.674     -18.104\n",
            "Kuru_Fasulye           146.6000      1.212    120.914      0.000     144.000     149.200\n",
            "Tavuk_Pirzola          148.1000      2.711     54.628      0.000     142.285     153.915\n",
            "Meyve_Suyu              81.8000      1.917     42.670      0.000      77.688      85.912\n",
            "Mozaik_Pasta           112.5401      1.839     61.207      0.000     108.597     116.484\n",
            "Ayran                  211.2006      1.457    144.990      0.000     208.076     214.325\n",
            "Puding                  70.8000      3.091     22.904      0.000      64.170      77.430\n",
            "Tursu                   75.8000      3.091     24.522      0.000      69.170      82.430\n",
            "Kemalpasa               97.6557      2.013     48.520      0.000      93.339     101.972\n",
            "Salata                  12.0000      6.062      1.979      0.068      -1.002      25.002\n",
            "==============================================================================\n",
            "Omnibus:                        3.944   Durbin-Watson:                   2.967\n",
            "Prob(Omnibus):                  0.139   Jarque-Bera (JB):                1.534\n",
            "Skew:                          -0.000   Prob(JB):                        0.464\n",
            "Kurtosis:                       1.853   Cond. No.                     1.18e+17\n",
            "==============================================================================\n",
            "\n",
            "Warnings:\n",
            "[1] Standard Errors assume that the covariance matrix of the errors is correctly specified.\n",
            "[2] The smallest eigenvalue is 1.3e-33. This might indicate that there are\n",
            "strong multicollinearity problems or that the design matrix is singular.\n"
          ]
        }
      ],
      "source": [
        "#model doğruluk hesaplamaları\n",
        "import statsmodels.api as sm\n",
        "lm = sm.OLS(Y, X)\n",
        "model = lm.fit()\n",
        "print(model.summary())"
      ]
    },
    {
      "cell_type": "code",
      "execution_count": null,
      "metadata": {
        "colab": {
          "base_uri": "https://localhost:8080/"
        },
        "id": "G218cLR0AV7E",
        "outputId": "fe871514-4993-4db9-d591-f218e9dec778"
      },
      "outputs": [
        {
          "data": {
            "text/plain": [
              "8.997456659505675"
            ]
          },
          "execution_count": 13,
          "metadata": {},
          "output_type": "execute_result"
        }
      ],
      "source": [
        "#kişi sayısındaki sapma\n",
        "from sklearn.model_selection import train_test_split\n",
        "from sklearn.metrics import mean_squared_error\n",
        "from sklearn.model_selection import cross_val_score\n",
        "import numpy as np\n",
        "x_train, x_test, y_train, y_test = train_test_split(X, Y, test_size = 0.10, random_state=99)\n",
        "lm = LinearRegression()\n",
        "model = lm.fit(x_train, y_train)\n",
        "np.sqrt(np.mean(-cross_val_score(model, x_train, y_train, cv=10, scoring=\"neg_mean_squared_error\")))"
      ]
    },
    {
      "cell_type": "code",
      "execution_count": null,
      "metadata": {
        "id": "M0UJYuSwHrZ4"
      },
      "outputs": [],
      "source": []
    }
  ],
  "metadata": {
    "colab": {
      "provenance": []
    },
    "kernelspec": {
      "display_name": "Python 3",
      "name": "python3"
    },
    "language_info": {
      "name": "python"
    }
  },
  "nbformat": 4,
  "nbformat_minor": 0
}
